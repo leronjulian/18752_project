{
  "nbformat": 4,
  "nbformat_minor": 0,
  "metadata": {
    "colab": {
      "name": "LDA.ipynb",
      "provenance": [],
      "collapsed_sections": []
    },
    "kernelspec": {
      "name": "python3",
      "display_name": "Python 3"
    },
    "language_info": {
      "name": "python"
    }
  },
  "cells": [
    {
      "cell_type": "code",
      "metadata": {
        "id": "8Jf3jGXMoI9p"
      },
      "source": [
        "import librosa as lb \n",
        "import matplotlib.pyplot as plt \n",
        "import librosa.display as libDisp\n",
        "from sklearn.discriminant_analysis import LinearDiscriminantAnalysis\n",
        "import pandas as pd\n",
        "import numpy as np "
      ],
      "execution_count": null,
      "outputs": []
    },
    {
      "cell_type": "code",
      "metadata": {
        "id": "zUPg3mpnsAkr"
      },
      "source": [
        "notes = []\n",
        "for i in range(5, 7):\n",
        "    for note in ['C', 'C#', 'D', 'D#', 'E', 'F', 'F#', 'G', 'G#', 'A', 'A#', 'B']:\n",
        "        notes.append(f'{note}{i}')\n",
        "\n",
        "mapping = {i: notes[i] for i in range(len(notes))}"
      ],
      "execution_count": null,
      "outputs": []
    },
    {
      "cell_type": "code",
      "metadata": {
        "id": "hL0lwlfzoTa3"
      },
      "source": [
        "a = np.load('song1.npz', allow_pickle=True)\n",
        "\n",
        "b = a['arr_0']\n",
        "b = b.sum(axis=0)"
      ],
      "execution_count": null,
      "outputs": []
    },
    {
      "cell_type": "code",
      "metadata": {
        "colab": {
          "base_uri": "https://localhost:8080/"
        },
        "id": "2s5jFY89ofRh",
        "outputId": "fed95acd-9454-44ef-cd50-13294649133c"
      },
      "source": [
        "X = b['X'][:]\n",
        "y = b['y'][:]\n",
        "\n",
        "newX = []\n",
        "newY = [] \n",
        "\n",
        "# Basically seperates all multi-hot into individual one-hot.\n",
        "# If it's a multi-hot, it makes a copy of x for each \n",
        "for note in range(X.shape[0]):\n",
        "    dic = np.arange(60, 84)\n",
        "    curr_X = X[note, :]\n",
        "    curr_Y = y[note, :]\n",
        "    idx = np.where(curr_Y == 1)[0]\n",
        "\n",
        "    for loc in idx:\n",
        "        newX.append(curr_X)\n",
        "        newY.append(dic[loc])\n",
        "\n",
        "\n",
        "newX = np.array(newX)\n",
        "newY = np.array(newY)\n",
        "\n",
        "\n",
        "# LDA\n",
        "clf = LinearDiscriminantAnalysis(n_components=2)\n",
        "X_lda = clf.fit(newX, newY).transform(newX)\n",
        "\n",
        "print('Original number of features:', X.shape[1])\n",
        "print('Reduced number of features:', X_lda.shape[1])"
      ],
      "execution_count": null,
      "outputs": [
        {
          "output_type": "stream",
          "text": [
            "Original number of features: 4097\n",
            "Reduced number of features: 2\n"
          ],
          "name": "stdout"
        }
      ]
    },
    {
      "cell_type": "code",
      "metadata": {
        "id": "_nQaAD-FovOp"
      },
      "source": [
        "X_transformed = clf.fit_transform(newX, newY)"
      ],
      "execution_count": null,
      "outputs": []
    },
    {
      "cell_type": "code",
      "metadata": {
        "colab": {
          "base_uri": "https://localhost:8080/",
          "height": 282
        },
        "id": "CtJwe25-qbuB",
        "outputId": "d7d91640-b519-4b56-cc97-a22d5dd1a52e"
      },
      "source": [
        "plt.scatter(X_transformed[:, 0], X_transformed[:, 1])"
      ],
      "execution_count": null,
      "outputs": [
        {
          "output_type": "execute_result",
          "data": {
            "text/plain": [
              "<matplotlib.collections.PathCollection at 0x7efed629d990>"
            ]
          },
          "metadata": {
            "tags": []
          },
          "execution_count": 22
        },
        {
          "output_type": "display_data",
          "data": {
            "image/png": "[encoded data removed]",
            "text/plain": [
              "<Figure size 432x288 with 1 Axes>"
            ]
          },
          "metadata": {
            "tags": [],
            "needs_background": "light"
          }
        }
      ]
    },
    {
      "cell_type": "code",
      "metadata": {
        "id": "hUjhiDR0zpxY"
      },
      "source": [
        ""
      ],
      "execution_count": null,
      "outputs": []
    },
    {
      "cell_type": "code",
      "metadata": {
        "id": "HA9ZRooArdUh"
      },
      "source": [
        ""
      ],
      "execution_count": null,
      "outputs": []
    },
    {
      "cell_type": "code",
      "metadata": {
        "id": "-3A0r46xr5KP"
      },
      "source": [
        ""
      ],
      "execution_count": null,
      "outputs": []
    },
    {
      "cell_type": "code",
      "metadata": {
        "id": "A_Q_welur5y8"
      },
      "source": [
        ""
      ],
      "execution_count": null,
      "outputs": []
    }
  ]
}