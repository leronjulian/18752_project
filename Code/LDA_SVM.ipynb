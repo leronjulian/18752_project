{
  "nbformat": 4,
  "nbformat_minor": 0,
  "metadata": {
    "colab": {
      "name": "LDA_SVM.ipynb",
      "provenance": [],
      "collapsed_sections": []
    },
    "kernelspec": {
      "name": "python3",
      "display_name": "Python 3"
    },
    "language_info": {
      "name": "python"
    }
  },
  "cells": [
    {
      "cell_type": "code",
      "metadata": {
        "id": "ZS0CxiGZ8lpa"
      },
      "source": [
        "import librosa\n",
        "import matplotlib.pyplot as plt \n",
        "import librosa.display as libDisp\n",
        "from sklearn.discriminant_analysis import LinearDiscriminantAnalysis\n",
        "import pandas as pd\n",
        "import numpy as np\n",
        "import joblib\n",
        "from sklearn import svm\n",
        "\n",
        "# SVM Model\n",
        "svm_model = svm.SVC(gamma=10, C=1)"
      ],
      "execution_count": null,
      "outputs": []
    },
    {
      "cell_type": "code",
      "metadata": {
        "id": "3oTh4Z7_RVMg"
      },
      "source": [
        "notes = []\n",
        "for i in range(5, 7):\n",
        "    for note in ['C', 'C#', 'D', 'D#', 'E', 'F', 'F#', 'G', 'G#', 'A', 'A#', 'B']:\n",
        "        notes.append(f'{note}{i}')\n",
        "\n",
        "mapping = {i: notes[i] for i in range(len(notes))}"
      ],
      "execution_count": null,
      "outputs": []
    },
    {
      "cell_type": "code",
      "metadata": {
        "id": "SvTNAWgxRu1_"
      },
      "source": [
        "def run_note(X, note_no, y):\n",
        "  X_transformed = None\n",
        "  targets = None\n",
        "  note_name = mapping[note_no]\n",
        "  targets = y[:, note_no]\n",
        "  \n",
        "  if len(np.unique(targets)) < 2:\n",
        "    return X_transformed, targets\n",
        "\n",
        "  lda = LinearDiscriminantAnalysis(n_components=1)\n",
        "  X_transformed  = lda.fit_transform(X, targets)\n",
        "\n",
        "  return X_transformed, targets"
      ],
      "execution_count": null,
      "outputs": []
    },
    {
      "cell_type": "code",
      "metadata": {
        "colab": {
          "base_uri": "https://localhost:8080/"
        },
        "id": "qowjYFWRRwdz",
        "outputId": "25cbd5fc-0c33-4f1e-e5c2-5bdefddbc845"
      },
      "source": [
        "# Train Model\n",
        "train_acc = []\n",
        "train_idx = ['1', '2', '4', '6', '7', '9']\n",
        "for idx in train_idx:\n",
        "  file_name = 'song' + idx\n",
        "  a = np.load(file_name + '.npz', allow_pickle=True)\n",
        "\n",
        "  b = a['arr_0']\n",
        "  b = b.sum(axis=0)\n",
        "\n",
        "  X = b['X']\n",
        "  y = b['y']\n",
        "\n",
        "  for i in range(len(notes)):\n",
        "    X_t, y_cur = run_note(X, i, y)\n",
        "    if np.any(X_t) != None:\n",
        "      svm_model.fit(X_t, y_cur) #Trains the model\n",
        "      acc = svm_model.score(X_t, y_cur) \n",
        "      train_acc.append(acc)\n",
        "\n",
        "print('Done Training...')\n",
        "print('Accuracy on Test Set', np.mean(train_acc))"
      ],
      "execution_count": null,
      "outputs": [
        {
          "output_type": "stream",
          "text": [
            "Done Training...\n"
          ],
          "name": "stdout"
        }
      ]
    },
    {
      "cell_type": "code",
      "metadata": {
        "colab": {
          "base_uri": "https://localhost:8080/"
        },
        "id": "052IJdVbgDCy",
        "outputId": "2479c9cd-b9ba-46b8-d7c6-a63c8f6cb7ac"
      },
      "source": [
        "'''\n",
        "  Save model\n",
        "'''\n",
        "filename = 'LDA_svm_classification.sav'\n",
        "joblib.dump(svm_model, filename)"
      ],
      "execution_count": null,
      "outputs": [
        {
          "output_type": "execute_result",
          "data": {
            "text/plain": [
              "['LDA_svm_classification.sav']"
            ]
          },
          "metadata": {
            "tags": []
          },
          "execution_count": 10
        }
      ]
    },
    {
      "cell_type": "code",
      "metadata": {
        "colab": {
          "base_uri": "https://localhost:8080/"
        },
        "id": "nMETb0DyR9Uk",
        "outputId": "09f8f087-a34c-4fb8-81e0-6a4b008f5ad9"
      },
      "source": [
        "'''\n",
        "  Valid Data\n",
        "'''\n",
        "valid_acc = []\n",
        "loaded_model = joblib.load('LDA_svm_classification.sav')\n",
        "\n",
        "def run_note(X, note_no, y):\n",
        "  X_transformed = None\n",
        "  targets = None\n",
        "  note_name = mapping[note_no]\n",
        "  targets = y[:, note_no]\n",
        "  \n",
        "  if len(np.unique(targets)) < 2:\n",
        "    return X_transformed, targets\n",
        "\n",
        "  lda = LinearDiscriminantAnalysis(n_components=1)\n",
        "  X_transformed  = lda.fit_transform(X, targets)\n",
        "\n",
        "  return X_transformed, targets\n",
        "\n",
        "\n",
        "valid_idx = ['8', '10']\n",
        "for idx in valid_idx:\n",
        "\n",
        "  file_name = 'song' + idx\n",
        "  a = np.load(file_name + '.npz', allow_pickle=True)\n",
        "\n",
        "  b = a['arr_0']\n",
        "  b = b.sum(axis=0)\n",
        "\n",
        "  X = b['X']\n",
        "  y = b['y']\n",
        "\n",
        "\n",
        "  # Test\n",
        "  for i in range(len(notes)):\n",
        "    X_t, y_cur = run_note(X, i, y)\n",
        "    if np.any(X_t) != None:\n",
        "      X_test = X_t[:,0].reshape((X_t[:,0].shape[0], 1))\n",
        "      pred = loaded_model.predict(X_test)\n",
        "      acc = loaded_model.score(X_test, y_cur) \n",
        "      valid_acc.append(acc)\n",
        "\n",
        "\n",
        "print('Accuracy on Validation Set', np.mean(valid_acc))"
      ],
      "execution_count": null,
      "outputs": [
        {
          "output_type": "stream",
          "text": [
            "0.9425226298365071\n"
          ],
          "name": "stdout"
        }
      ]
    },
    {
      "cell_type": "code",
      "metadata": {
        "colab": {
          "base_uri": "https://localhost:8080/"
        },
        "id": "9JAqhDRNgqmL",
        "outputId": "7844d2ec-b660-4250-ef59-fd39622c70af"
      },
      "source": [
        "'''\n",
        "  Test Data\n",
        "'''\n",
        "\n",
        "test_acc = []\n",
        "loaded_model = joblib.load('LDA_svm_classification.sav')\n",
        "\n",
        "def run_note(X, note_no, y):\n",
        "  X_transformed = None\n",
        "  targets = None\n",
        "  note_name = mapping[note_no]\n",
        "  targets = y[:, note_no]\n",
        "  \n",
        "  if len(np.unique(targets)) < 2:\n",
        "    # print(f\"note {note_name} has no samples\")\n",
        "    return X_transformed, targets\n",
        "\n",
        "  lda = LinearDiscriminantAnalysis(n_components=1)\n",
        "  X_transformed  = lda.fit_transform(X, targets)\n",
        "\n",
        "  return X_transformed, targets\n",
        "\n",
        "\n",
        "test_idx = ['3', '5']\n",
        "for idx in test_idx:\n",
        "\n",
        "  file_name = 'song' + idx\n",
        "  a = np.load(file_name + '.npz', allow_pickle=True)\n",
        "\n",
        "  b = a['arr_0']\n",
        "  b = b.sum(axis=0)\n",
        "\n",
        "  X = b['X']\n",
        "  y = b['y']\n",
        "\n",
        "\n",
        "  # Test\n",
        "  for i in range(len(notes)):\n",
        "    X_t, y_cur = run_note(X, i, y)\n",
        "    if np.any(X_t) != None:\n",
        "      X_test = X_t[:,0].reshape((X_t[:,0].shape[0], 1))\n",
        "      pred = loaded_model.predict(X_test)\n",
        "      acc = loaded_model.score(X_test, y_cur) #Calculates accuracy on test note\n",
        "      test_acc.append(acc)\n",
        "\n",
        "\n",
        "print('Accuracy on Validation Set', np.mean(test_acc))"
      ],
      "execution_count": null,
      "outputs": [
        {
          "output_type": "stream",
          "text": [
            "0.910951549772559\n"
          ],
          "name": "stdout"
        }
      ]
    },
    {
      "cell_type": "code",
      "metadata": {
        "id": "OtKAbdHIhBiI"
      },
      "source": [
        ""
      ],
      "execution_count": null,
      "outputs": []
    }
  ]
}