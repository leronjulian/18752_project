{
  "nbformat": 4,
  "nbformat_minor": 0,
  "metadata": {
    "colab": {
      "name": "LDA_Logistic_Regression.ipynb",
      "provenance": [],
      "collapsed_sections": []
    },
    "kernelspec": {
      "name": "python3",
      "display_name": "Python 3"
    },
    "language_info": {
      "name": "python"
    }
  },
  "cells": [
    {
      "cell_type": "code",
      "metadata": {
        "id": "SHOT8mtrOXJy"
      },
      "source": [
        "import librosa\n",
        "import matplotlib.pyplot as plt \n",
        "import librosa.display as libDisp\n",
        "from sklearn.discriminant_analysis import LinearDiscriminantAnalysis\n",
        "import pandas as pd\n",
        "import numpy as np\n",
        "from sklearn.linear_model import LogisticRegression\n",
        "import joblib\n",
        "\n",
        "# Logistic Regression Model\n",
        "logit_model = LogisticRegression(random_state=0)\n",
        "total_acc = []"
      ],
      "execution_count": 1,
      "outputs": []
    },
    {
      "cell_type": "code",
      "metadata": {
        "id": "16A7MNDUOcUr"
      },
      "source": [
        "notes = []\n",
        "for i in range(5, 7):\n",
        "    for note in ['C', 'C#', 'D', 'D#', 'E', 'F', 'F#', 'G', 'G#', 'A', 'A#', 'B']:\n",
        "        notes.append(f'{note}{i}')\n",
        "\n",
        "mapping = {i: notes[i] for i in range(len(notes))}"
      ],
      "execution_count": 2,
      "outputs": []
    },
    {
      "cell_type": "code",
      "metadata": {
        "id": "_AlbDrVjOcvv"
      },
      "source": [
        "def run_note(X, note_no, y):\n",
        "  X_transformed = None\n",
        "  targets = None\n",
        "  note_name = mapping[note_no]\n",
        "  targets = y[:, note_no]\n",
        "  \n",
        "  if len(np.unique(targets)) < 2:\n",
        "    return X_transformed, targets\n",
        "\n",
        "  lda = LinearDiscriminantAnalysis(n_components=1)\n",
        "  X_transformed  = lda.fit_transform(X, targets)\n",
        "\n",
        "  return X_transformed, targets"
      ],
      "execution_count": 3,
      "outputs": []
    },
    {
      "cell_type": "code",
      "metadata": {
        "id": "NxUHOUv63pIL",
        "colab": {
          "base_uri": "https://localhost:8080/",
          "height": 351
        },
        "outputId": "5b4fc4f6-421c-4e43-8fd8-d356f0049fc1"
      },
      "source": [
        "'''\n",
        "  Train Model\n",
        "'''\n",
        "train_acc = []\n",
        "train_idx = ['1', '2', '4', '6', '7', '9']\n",
        "for idx in train_idx:\n",
        "  file_name = 'song' + idx\n",
        "  a = np.load(file_name + '.npz', allow_pickle=True)\n",
        "\n",
        "  b = a['arr_0']\n",
        "  b = b.sum(axis=0)\n",
        "\n",
        "  X = b['X']\n",
        "  y = b['y']\n",
        "  for i in range(len(notes)):\n",
        "    X_t, y_cur = run_note(X, i, y)\n",
        "    if np.any(X_t) != None:\n",
        "      logit_model.fit(X_t, y_cur)\n",
        "      acc = logit_model.score(X_t, y_cur) \n",
        "      train_acc.append(acc)\n",
        "\n",
        "\n",
        "\n",
        "print('Done Training...')\n",
        "print('Accuracy on Test Set', np.mean(train_acc))"
      ],
      "execution_count": 4,
      "outputs": [
        {
          "output_type": "error",
          "ename": "FileNotFoundError",
          "evalue": "ignored",
          "traceback": [
            "\u001b[0;31m---------------------------------------------------------------------------\u001b[0m",
            "\u001b[0;31mFileNotFoundError\u001b[0m                         Traceback (most recent call last)",
            "\u001b[0;32m<ipython-input-4-cb98a36aec84>\u001b[0m in \u001b[0;36m<module>\u001b[0;34m()\u001b[0m\n\u001b[1;32m      6\u001b[0m \u001b[0;32mfor\u001b[0m \u001b[0midx\u001b[0m \u001b[0;32min\u001b[0m \u001b[0mtrain_idx\u001b[0m\u001b[0;34m:\u001b[0m\u001b[0;34m\u001b[0m\u001b[0;34m\u001b[0m\u001b[0m\n\u001b[1;32m      7\u001b[0m   \u001b[0mfile_name\u001b[0m \u001b[0;34m=\u001b[0m \u001b[0;34m'song'\u001b[0m \u001b[0;34m+\u001b[0m \u001b[0midx\u001b[0m\u001b[0;34m\u001b[0m\u001b[0;34m\u001b[0m\u001b[0m\n\u001b[0;32m----> 8\u001b[0;31m   \u001b[0ma\u001b[0m \u001b[0;34m=\u001b[0m \u001b[0mnp\u001b[0m\u001b[0;34m.\u001b[0m\u001b[0mload\u001b[0m\u001b[0;34m(\u001b[0m\u001b[0mfile_name\u001b[0m \u001b[0;34m+\u001b[0m \u001b[0;34m'.npz'\u001b[0m\u001b[0;34m,\u001b[0m \u001b[0mallow_pickle\u001b[0m\u001b[0;34m=\u001b[0m\u001b[0;32mTrue\u001b[0m\u001b[0;34m)\u001b[0m\u001b[0;34m\u001b[0m\u001b[0;34m\u001b[0m\u001b[0m\n\u001b[0m\u001b[1;32m      9\u001b[0m \u001b[0;34m\u001b[0m\u001b[0m\n\u001b[1;32m     10\u001b[0m   \u001b[0mb\u001b[0m \u001b[0;34m=\u001b[0m \u001b[0ma\u001b[0m\u001b[0;34m[\u001b[0m\u001b[0;34m'arr_0'\u001b[0m\u001b[0;34m]\u001b[0m\u001b[0;34m\u001b[0m\u001b[0;34m\u001b[0m\u001b[0m\n",
            "\u001b[0;32m/usr/local/lib/python3.7/dist-packages/numpy/lib/npyio.py\u001b[0m in \u001b[0;36mload\u001b[0;34m(file, mmap_mode, allow_pickle, fix_imports, encoding)\u001b[0m\n\u001b[1;32m    414\u001b[0m             \u001b[0mown_fid\u001b[0m \u001b[0;34m=\u001b[0m \u001b[0;32mFalse\u001b[0m\u001b[0;34m\u001b[0m\u001b[0;34m\u001b[0m\u001b[0m\n\u001b[1;32m    415\u001b[0m         \u001b[0;32melse\u001b[0m\u001b[0;34m:\u001b[0m\u001b[0;34m\u001b[0m\u001b[0;34m\u001b[0m\u001b[0m\n\u001b[0;32m--> 416\u001b[0;31m             \u001b[0mfid\u001b[0m \u001b[0;34m=\u001b[0m \u001b[0mstack\u001b[0m\u001b[0;34m.\u001b[0m\u001b[0menter_context\u001b[0m\u001b[0;34m(\u001b[0m\u001b[0mopen\u001b[0m\u001b[0;34m(\u001b[0m\u001b[0mos_fspath\u001b[0m\u001b[0;34m(\u001b[0m\u001b[0mfile\u001b[0m\u001b[0;34m)\u001b[0m\u001b[0;34m,\u001b[0m \u001b[0;34m\"rb\"\u001b[0m\u001b[0;34m)\u001b[0m\u001b[0;34m)\u001b[0m\u001b[0;34m\u001b[0m\u001b[0;34m\u001b[0m\u001b[0m\n\u001b[0m\u001b[1;32m    417\u001b[0m             \u001b[0mown_fid\u001b[0m \u001b[0;34m=\u001b[0m \u001b[0;32mTrue\u001b[0m\u001b[0;34m\u001b[0m\u001b[0;34m\u001b[0m\u001b[0m\n\u001b[1;32m    418\u001b[0m \u001b[0;34m\u001b[0m\u001b[0m\n",
            "\u001b[0;31mFileNotFoundError\u001b[0m: [Errno 2] No such file or directory: 'song1.npz'"
          ]
        }
      ]
    },
    {
      "cell_type": "code",
      "metadata": {
        "id": "Owhgc-HW34GA"
      },
      "source": [
        "'''\n",
        "  To save model\n",
        "'''\n",
        "filename = 'LDA_logistic_regression.sav'\n",
        "joblib.dump(logit_model, filename)"
      ],
      "execution_count": null,
      "outputs": []
    },
    {
      "cell_type": "code",
      "metadata": {
        "colab": {
          "base_uri": "https://localhost:8080/",
          "height": 1000
        },
        "id": "5j43de0uKs8G",
        "outputId": "c8d7288b-1a5c-4c70-f53d-e0e4cd455916"
      },
      "source": [
        "'''\n",
        "  Run Model on Valid Data\n",
        "'''\n",
        "valid_acc = []\n",
        "loaded_model = joblib.load('LDA_logistic_regression.sav')\n",
        "\n",
        "def run_note(X, note_no, y):\n",
        "  X_transformed = None\n",
        "  targets = None\n",
        "  note_name = mapping[note_no]\n",
        "  targets = y[:, note_no]\n",
        "  \n",
        "  if len(np.unique(targets)) < 2:\n",
        "    return X_transformed, targets\n",
        "\n",
        "  lda = LinearDiscriminantAnalysis(n_components=1)\n",
        "  X_transformed  = lda.fit_transform(X, targets)\n",
        "\n",
        "  return X_transformed, targets\n",
        "\n",
        "\n",
        "valid_idx = ['8', '10']\n",
        "for idx in valid_idx:\n",
        "\n",
        "  file_name = 'song' + idx\n",
        "  a = np.load(file_name + '.npz', allow_pickle=True)\n",
        "\n",
        "  b = a['arr_0']\n",
        "  b = b.sum(axis=0)\n",
        "\n",
        "  X = b['X']\n",
        "  y = b['y']\n",
        "\n",
        "\n",
        "  # Test\n",
        "  for i in range(len(notes)):\n",
        "    X_t, y_cur = run_note(X, i, y)\n",
        "    if np.any(X_t) != None:\n",
        "      X_test = X_t[:,0].reshape((X_t[:,0].shape[0], 1))\n",
        "      acc = loaded_model.score(X_test, y_cur) #Calculates accuracy on test note\n",
        "      valid_acc.append(acc)\n",
        "\n",
        "print('Accuracy on Validation Set', np.mean(valid_acc))"
      ],
      "execution_count": null,
      "outputs": [
        {
          "output_type": "stream",
          "text": [
            "[[9.90995919e-01 9.00408057e-03]\n",
            " [9.90995919e-01 9.00408057e-03]\n",
            " [9.99911488e-01 8.85117191e-05]\n",
            " [9.99911488e-01 8.85117191e-05]\n",
            " [9.99911488e-01 8.85117191e-05]\n",
            " [9.99911488e-01 8.85117191e-05]\n",
            " [9.99911488e-01 8.85117191e-05]\n",
            " [9.99911488e-01 8.85117191e-05]\n",
            " [9.99911488e-01 8.85117191e-05]\n",
            " [9.99911488e-01 8.85117191e-05]\n",
            " [9.99911488e-01 8.85117191e-05]\n",
            " [5.17437428e-01 4.82562572e-01]\n",
            " [9.99911488e-01 8.85117191e-05]\n",
            " [9.99911488e-01 8.85117191e-05]\n",
            " [9.99911488e-01 8.85117191e-05]\n",
            " [9.99911488e-01 8.85117191e-05]\n",
            " [9.99911488e-01 8.85117191e-05]\n",
            " [9.99911488e-01 8.85117191e-05]\n",
            " [9.99911488e-01 8.85117191e-05]\n",
            " [9.99911488e-01 8.85117191e-05]\n",
            " [9.99911488e-01 8.85117191e-05]\n",
            " [9.99911488e-01 8.85117191e-05]\n",
            " [9.99911488e-01 8.85117191e-05]\n",
            " [9.99911488e-01 8.85117191e-05]\n",
            " [9.99911488e-01 8.85117191e-05]\n",
            " [9.99911488e-01 8.85117191e-05]\n",
            " [9.99911488e-01 8.85117191e-05]\n",
            " [5.17437428e-01 4.82562572e-01]\n",
            " [5.17437428e-01 4.82562572e-01]\n",
            " [5.17437428e-01 4.82562572e-01]\n",
            " [5.17437428e-01 4.82562572e-01]\n",
            " [9.98063209e-01 1.93679114e-03]\n",
            " [9.98063209e-01 1.93679114e-03]\n",
            " [9.98063209e-01 1.93679114e-03]\n",
            " [9.99911488e-01 8.85117191e-05]\n",
            " [9.99911488e-01 8.85117191e-05]\n",
            " [9.99911488e-01 8.85117191e-05]\n",
            " [9.99911488e-01 8.85117191e-05]\n",
            " [9.99911488e-01 8.85117191e-05]\n",
            " [9.99911488e-01 8.85117191e-05]\n",
            " [9.99911488e-01 8.85117191e-05]\n",
            " [9.99911488e-01 8.85117191e-05]\n",
            " [9.99911488e-01 8.85117191e-05]\n",
            " [5.17437428e-01 4.82562572e-01]\n",
            " [5.17437428e-01 4.82562572e-01]\n",
            " [5.17437428e-01 4.82562572e-01]\n",
            " [5.17437428e-01 4.82562572e-01]\n",
            " [5.17437428e-01 4.82562572e-01]\n",
            " [5.17437428e-01 4.82562572e-01]\n",
            " [5.17437428e-01 4.82562572e-01]\n",
            " [5.17437428e-01 4.82562572e-01]\n",
            " [5.17437428e-01 4.82562572e-01]\n",
            " [8.72392448e-01 1.27607552e-01]\n",
            " [8.72392448e-01 1.27607552e-01]\n",
            " [8.72392448e-01 1.27607552e-01]\n",
            " [8.72392448e-01 1.27607552e-01]\n",
            " [8.72392448e-01 1.27607552e-01]\n",
            " [9.99911488e-01 8.85117191e-05]\n",
            " [9.99911488e-01 8.85117191e-05]\n",
            " [9.99911488e-01 8.85117191e-05]\n",
            " [9.99911488e-01 8.85117191e-05]\n",
            " [9.99911488e-01 8.85117191e-05]\n",
            " [9.99911488e-01 8.85117191e-05]\n",
            " [9.99911488e-01 8.85117191e-05]\n",
            " [5.17437428e-01 4.82562572e-01]\n",
            " [5.17437428e-01 4.82562572e-01]\n",
            " [5.17437428e-01 4.82562572e-01]\n",
            " [5.17437428e-01 4.82562572e-01]\n",
            " [5.17437428e-01 4.82562572e-01]\n",
            " [5.17437428e-01 4.82562572e-01]\n",
            " [5.17437428e-01 4.82562572e-01]\n",
            " [5.17437428e-01 4.82562572e-01]\n",
            " [9.77572436e-01 2.24275643e-02]\n",
            " [9.77572436e-01 2.24275643e-02]\n",
            " [9.77572436e-01 2.24275643e-02]\n",
            " [9.77572436e-01 2.24275643e-02]\n",
            " [9.77572436e-01 2.24275643e-02]\n",
            " [9.99911488e-01 8.85117191e-05]\n",
            " [9.99911488e-01 8.85117191e-05]\n",
            " [9.99911488e-01 8.85117191e-05]\n",
            " [9.99911488e-01 8.85117191e-05]\n",
            " [9.99911488e-01 8.85117191e-05]\n",
            " [9.99911488e-01 8.85117191e-05]\n",
            " [9.99911488e-01 8.85117191e-05]\n",
            " [9.99911488e-01 8.85117191e-05]\n",
            " [9.99911488e-01 8.85117191e-05]\n",
            " [9.99911488e-01 8.85117191e-05]\n",
            " [9.99911488e-01 8.85117191e-05]\n",
            " [9.99911488e-01 8.85117191e-05]\n",
            " [9.99911488e-01 8.85117191e-05]\n",
            " [9.99911488e-01 8.85117191e-05]\n",
            " [9.99911488e-01 8.85117191e-05]\n",
            " [9.99911488e-01 8.85117191e-05]\n",
            " [9.99911488e-01 8.85117191e-05]\n",
            " [9.99911488e-01 8.85117191e-05]\n",
            " [9.99911488e-01 8.85117191e-05]\n",
            " [9.99911488e-01 8.85117191e-05]\n",
            " [9.99911488e-01 8.85117191e-05]\n",
            " [9.99911488e-01 8.85117191e-05]\n",
            " [9.99911488e-01 8.85117191e-05]\n",
            " [9.99911488e-01 8.85117191e-05]\n",
            " [9.99911488e-01 8.85117191e-05]\n",
            " [9.99911488e-01 8.85117191e-05]\n",
            " [9.99911488e-01 8.85117191e-05]\n",
            " [9.99911488e-01 8.85117191e-05]\n",
            " [9.99911488e-01 8.85117191e-05]\n",
            " [5.17437428e-01 4.82562572e-01]\n",
            " [5.17437428e-01 4.82562572e-01]\n",
            " [5.17437428e-01 4.82562572e-01]\n",
            " [5.17437428e-01 4.82562572e-01]\n",
            " [5.17437428e-01 4.82562572e-01]]\n"
          ],
          "name": "stdout"
        },
        {
          "output_type": "error",
          "ename": "KeyboardInterrupt",
          "evalue": "ignored",
          "traceback": [
            "\u001b[0;31m---------------------------------------------------------------------------\u001b[0m",
            "\u001b[0;31mKeyboardInterrupt\u001b[0m                         Traceback (most recent call last)",
            "\u001b[0;32m/usr/local/lib/python3.7/dist-packages/ipykernel/kernelbase.py\u001b[0m in \u001b[0;36m_input_request\u001b[0;34m(self, prompt, ident, parent, password)\u001b[0m\n\u001b[1;32m    728\u001b[0m             \u001b[0;32mtry\u001b[0m\u001b[0;34m:\u001b[0m\u001b[0;34m\u001b[0m\u001b[0;34m\u001b[0m\u001b[0m\n\u001b[0;32m--> 729\u001b[0;31m                 \u001b[0mident\u001b[0m\u001b[0;34m,\u001b[0m \u001b[0mreply\u001b[0m \u001b[0;34m=\u001b[0m \u001b[0mself\u001b[0m\u001b[0;34m.\u001b[0m\u001b[0msession\u001b[0m\u001b[0;34m.\u001b[0m\u001b[0mrecv\u001b[0m\u001b[0;34m(\u001b[0m\u001b[0mself\u001b[0m\u001b[0;34m.\u001b[0m\u001b[0mstdin_socket\u001b[0m\u001b[0;34m,\u001b[0m \u001b[0;36m0\u001b[0m\u001b[0;34m)\u001b[0m\u001b[0;34m\u001b[0m\u001b[0;34m\u001b[0m\u001b[0m\n\u001b[0m\u001b[1;32m    730\u001b[0m             \u001b[0;32mexcept\u001b[0m \u001b[0mException\u001b[0m\u001b[0;34m:\u001b[0m\u001b[0;34m\u001b[0m\u001b[0;34m\u001b[0m\u001b[0m\n",
            "\u001b[0;32m/usr/local/lib/python3.7/dist-packages/jupyter_client/session.py\u001b[0m in \u001b[0;36mrecv\u001b[0;34m(self, socket, mode, content, copy)\u001b[0m\n\u001b[1;32m    802\u001b[0m         \u001b[0;32mtry\u001b[0m\u001b[0;34m:\u001b[0m\u001b[0;34m\u001b[0m\u001b[0;34m\u001b[0m\u001b[0m\n\u001b[0;32m--> 803\u001b[0;31m             \u001b[0mmsg_list\u001b[0m \u001b[0;34m=\u001b[0m \u001b[0msocket\u001b[0m\u001b[0;34m.\u001b[0m\u001b[0mrecv_multipart\u001b[0m\u001b[0;34m(\u001b[0m\u001b[0mmode\u001b[0m\u001b[0;34m,\u001b[0m \u001b[0mcopy\u001b[0m\u001b[0;34m=\u001b[0m\u001b[0mcopy\u001b[0m\u001b[0;34m)\u001b[0m\u001b[0;34m\u001b[0m\u001b[0;34m\u001b[0m\u001b[0m\n\u001b[0m\u001b[1;32m    804\u001b[0m         \u001b[0;32mexcept\u001b[0m \u001b[0mzmq\u001b[0m\u001b[0;34m.\u001b[0m\u001b[0mZMQError\u001b[0m \u001b[0;32mas\u001b[0m \u001b[0me\u001b[0m\u001b[0;34m:\u001b[0m\u001b[0;34m\u001b[0m\u001b[0;34m\u001b[0m\u001b[0m\n",
            "\u001b[0;32m/usr/local/lib/python3.7/dist-packages/zmq/sugar/socket.py\u001b[0m in \u001b[0;36mrecv_multipart\u001b[0;34m(self, flags, copy, track)\u001b[0m\n\u001b[1;32m    582\u001b[0m         \"\"\"\n\u001b[0;32m--> 583\u001b[0;31m         \u001b[0mparts\u001b[0m \u001b[0;34m=\u001b[0m \u001b[0;34m[\u001b[0m\u001b[0mself\u001b[0m\u001b[0;34m.\u001b[0m\u001b[0mrecv\u001b[0m\u001b[0;34m(\u001b[0m\u001b[0mflags\u001b[0m\u001b[0;34m,\u001b[0m \u001b[0mcopy\u001b[0m\u001b[0;34m=\u001b[0m\u001b[0mcopy\u001b[0m\u001b[0;34m,\u001b[0m \u001b[0mtrack\u001b[0m\u001b[0;34m=\u001b[0m\u001b[0mtrack\u001b[0m\u001b[0;34m)\u001b[0m\u001b[0;34m]\u001b[0m\u001b[0;34m\u001b[0m\u001b[0;34m\u001b[0m\u001b[0m\n\u001b[0m\u001b[1;32m    584\u001b[0m         \u001b[0;31m# have first part already, only loop while more to receive\u001b[0m\u001b[0;34m\u001b[0m\u001b[0;34m\u001b[0m\u001b[0;34m\u001b[0m\u001b[0m\n",
            "\u001b[0;32mzmq/backend/cython/socket.pyx\u001b[0m in \u001b[0;36mzmq.backend.cython.socket.Socket.recv\u001b[0;34m()\u001b[0m\n",
            "\u001b[0;32mzmq/backend/cython/socket.pyx\u001b[0m in \u001b[0;36mzmq.backend.cython.socket.Socket.recv\u001b[0;34m()\u001b[0m\n",
            "\u001b[0;32mzmq/backend/cython/socket.pyx\u001b[0m in \u001b[0;36mzmq.backend.cython.socket._recv_copy\u001b[0;34m()\u001b[0m\n",
            "\u001b[0;32m/usr/local/lib/python3.7/dist-packages/zmq/backend/cython/checkrc.pxd\u001b[0m in \u001b[0;36mzmq.backend.cython.checkrc._check_rc\u001b[0;34m()\u001b[0m\n",
            "\u001b[0;31mKeyboardInterrupt\u001b[0m: ",
            "\nDuring handling of the above exception, another exception occurred:\n",
            "\u001b[0;31mKeyboardInterrupt\u001b[0m                         Traceback (most recent call last)",
            "\u001b[0;32m<ipython-input-7-91f0a1b11c05>\u001b[0m in \u001b[0;36m<module>\u001b[0;34m()\u001b[0m\n\u001b[1;32m     45\u001b[0m \u001b[0;34m\u001b[0m\u001b[0m\n\u001b[1;32m     46\u001b[0m       \u001b[0mprint\u001b[0m\u001b[0;34m(\u001b[0m\u001b[0mpred\u001b[0m\u001b[0;34m)\u001b[0m\u001b[0;34m\u001b[0m\u001b[0;34m\u001b[0m\u001b[0m\n\u001b[0;32m---> 47\u001b[0;31m       \u001b[0minput\u001b[0m\u001b[0;34m(\u001b[0m\u001b[0;34m'sss'\u001b[0m\u001b[0;34m)\u001b[0m\u001b[0;34m\u001b[0m\u001b[0;34m\u001b[0m\u001b[0m\n\u001b[0m\u001b[1;32m     48\u001b[0m \u001b[0;34m\u001b[0m\u001b[0m\n\u001b[1;32m     49\u001b[0m \u001b[0mprint\u001b[0m\u001b[0;34m(\u001b[0m\u001b[0mnp\u001b[0m\u001b[0;34m.\u001b[0m\u001b[0mmean\u001b[0m\u001b[0;34m(\u001b[0m\u001b[0mvalid_acc\u001b[0m\u001b[0;34m)\u001b[0m\u001b[0;34m)\u001b[0m\u001b[0;34m\u001b[0m\u001b[0;34m\u001b[0m\u001b[0m\n",
            "\u001b[0;32m/usr/local/lib/python3.7/dist-packages/ipykernel/kernelbase.py\u001b[0m in \u001b[0;36mraw_input\u001b[0;34m(self, prompt)\u001b[0m\n\u001b[1;32m    702\u001b[0m             \u001b[0mself\u001b[0m\u001b[0;34m.\u001b[0m\u001b[0m_parent_ident\u001b[0m\u001b[0;34m,\u001b[0m\u001b[0;34m\u001b[0m\u001b[0;34m\u001b[0m\u001b[0m\n\u001b[1;32m    703\u001b[0m             \u001b[0mself\u001b[0m\u001b[0;34m.\u001b[0m\u001b[0m_parent_header\u001b[0m\u001b[0;34m,\u001b[0m\u001b[0;34m\u001b[0m\u001b[0;34m\u001b[0m\u001b[0m\n\u001b[0;32m--> 704\u001b[0;31m             \u001b[0mpassword\u001b[0m\u001b[0;34m=\u001b[0m\u001b[0;32mFalse\u001b[0m\u001b[0;34m,\u001b[0m\u001b[0;34m\u001b[0m\u001b[0;34m\u001b[0m\u001b[0m\n\u001b[0m\u001b[1;32m    705\u001b[0m         )\n\u001b[1;32m    706\u001b[0m \u001b[0;34m\u001b[0m\u001b[0m\n",
            "\u001b[0;32m/usr/local/lib/python3.7/dist-packages/ipykernel/kernelbase.py\u001b[0m in \u001b[0;36m_input_request\u001b[0;34m(self, prompt, ident, parent, password)\u001b[0m\n\u001b[1;32m    732\u001b[0m             \u001b[0;32mexcept\u001b[0m \u001b[0mKeyboardInterrupt\u001b[0m\u001b[0;34m:\u001b[0m\u001b[0;34m\u001b[0m\u001b[0;34m\u001b[0m\u001b[0m\n\u001b[1;32m    733\u001b[0m                 \u001b[0;31m# re-raise KeyboardInterrupt, to truncate traceback\u001b[0m\u001b[0;34m\u001b[0m\u001b[0;34m\u001b[0m\u001b[0;34m\u001b[0m\u001b[0m\n\u001b[0;32m--> 734\u001b[0;31m                 \u001b[0;32mraise\u001b[0m \u001b[0mKeyboardInterrupt\u001b[0m\u001b[0;34m\u001b[0m\u001b[0;34m\u001b[0m\u001b[0m\n\u001b[0m\u001b[1;32m    735\u001b[0m             \u001b[0;32melse\u001b[0m\u001b[0;34m:\u001b[0m\u001b[0;34m\u001b[0m\u001b[0;34m\u001b[0m\u001b[0m\n\u001b[1;32m    736\u001b[0m                 \u001b[0;32mbreak\u001b[0m\u001b[0;34m\u001b[0m\u001b[0;34m\u001b[0m\u001b[0m\n",
            "\u001b[0;31mKeyboardInterrupt\u001b[0m: "
          ]
        }
      ]
    },
    {
      "cell_type": "code",
      "metadata": {
        "id": "mhTIMGCjMUV9",
        "colab": {
          "base_uri": "https://localhost:8080/"
        },
        "outputId": "805cf5f3-9fe0-4699-ef5d-aebd2ae1546f"
      },
      "source": [
        "'''\n",
        "  Run Model on Test Data\n",
        "'''\n",
        "\n",
        "test_acc = []\n",
        "loaded_model = joblib.load('LDA_logistic_regression.sav')\n",
        "\n",
        "def run_note(X, note_no, y):\n",
        "  X_transformed = None\n",
        "  targets = None\n",
        "  note_name = mapping[note_no]\n",
        "  targets = y[:, note_no]\n",
        "  \n",
        "  if len(np.unique(targets)) < 2:\n",
        "    return X_transformed, targets\n",
        "\n",
        "  lda = LinearDiscriminantAnalysis(n_components=1)\n",
        "  X_transformed  = lda.fit_transform(X, targets)\n",
        "\n",
        "  return X_transformed, targets\n",
        "\n",
        "\n",
        "test_idx = ['3', '5']\n",
        "for idx in test_idx:\n",
        "\n",
        "  file_name = 'song' + idx\n",
        "  a = np.load(file_name + '.npz', allow_pickle=True)\n",
        "\n",
        "  b = a['arr_0']\n",
        "  b = b.sum(axis=0)\n",
        "\n",
        "  X = b['X']\n",
        "  y = b['y']\n",
        "\n",
        "\n",
        "  for i in range(len(notes)):\n",
        "    X_t, y_cur = run_note(X, i, y)\n",
        "    if np.any(X_t) != None:\n",
        "      X_test = X_t[:,0].reshape((X_t[:,0].shape[0], 1))\n",
        "      acc = loaded_model.score(X_test, y_cur) #Calculates accuracy on test note\n",
        "      test_acc.append(acc)\n",
        "\n",
        "print('Accuracy on Test Set', np.mean(test_acc))"
      ],
      "execution_count": null,
      "outputs": [
        {
          "output_type": "stream",
          "text": [
            "0.9089786311223951\n"
          ],
          "name": "stdout"
        }
      ]
    },
    {
      "cell_type": "code",
      "metadata": {
        "id": "3IiiVS92LrmS"
      },
      "source": [
        ""
      ],
      "execution_count": null,
      "outputs": []
    }
  ]
}